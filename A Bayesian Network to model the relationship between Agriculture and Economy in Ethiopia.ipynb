{
 "cells": [
  {
   "cell_type": "markdown",
   "id": "d9c06d08",
   "metadata": {},
   "source": [
    "# A Bayesian Network to model the relationship between Agriculture and Economy in Ethiopia\n",
    "\n"
   ]
  },
  {
   "cell_type": "markdown",
   "id": "e8468d66",
   "metadata": {},
   "source": [
    "## The core part of the implementation is a library termed as pgmpy"
   ]
  },
  {
   "cell_type": "code",
   "execution_count": 69,
   "id": "5f4cb217",
   "metadata": {},
   "outputs": [],
   "source": [
    "import pandas as pd\n",
    "from pandas_datareader import wb\n",
    "import pandas_datareader as pdr\n",
    "import wbdata\n",
    "from pgmpy.models import BayesianModel\n",
    "import numpy as np\n",
    "from pandas import read_csv, DataFrame\n",
    "from pgmpy.estimators import BayesianEstimator, MaximumLikelihoodEstimator\n",
    "from IPython.core.display import display, HTML\n",
    "from pgmpy.independencies.Independencies import IndependenceAssertion\n",
    "from pgmpy.inference import VariableElimination\n",
    "import time\n"
   ]
  },
  {
   "cell_type": "markdown",
   "id": "11e05574",
   "metadata": {},
   "source": [
    "# The specific values are stored as indicators on the website."
   ]
  },
  {
   "cell_type": "code",
   "execution_count": 42,
   "id": "fd24e14c",
   "metadata": {},
   "outputs": [],
   "source": [
    "indicators={\n",
    "    \n",
    "       \"NY.GDP.PCAP.KD.ZG\":\"gdp\",\n",
    "        'NE.IMP.GNFS.ZS':'imp',\n",
    "        'NE.EXP.GNFS.ZS':'exp',\n",
    "    \n",
    "    'AG.LND.AGRI.ZS':'lnd',\n",
    "    'AG.LND.AGRI.ZS?':'agr',\n",
    "    'NV.AGR.TOTL.ZS':'urb',\n",
    "    'SP.POP.GROW':'pop'\n",
    "   \n",
    "    \n",
    "    }\n",
    "\n"
   ]
  },
  {
   "cell_type": "markdown",
   "id": "868a91d2",
   "metadata": {},
   "source": [
    "# Get data from wb"
   ]
  },
  {
   "cell_type": "code",
   "execution_count": 85,
   "id": "cf874f46",
   "metadata": {},
   "outputs": [],
   "source": [
    "df=wbdata.get_dataframe(indicators,country='ET')"
   ]
  },
  {
   "cell_type": "code",
   "execution_count": 86,
   "id": "e5a660ce",
   "metadata": {},
   "outputs": [
    {
     "data": {
      "text/html": [
       "<div>\n",
       "<style scoped>\n",
       "    .dataframe tbody tr th:only-of-type {\n",
       "        vertical-align: middle;\n",
       "    }\n",
       "\n",
       "    .dataframe tbody tr th {\n",
       "        vertical-align: top;\n",
       "    }\n",
       "\n",
       "    .dataframe thead th {\n",
       "        text-align: right;\n",
       "    }\n",
       "</style>\n",
       "<table border=\"1\" class=\"dataframe\">\n",
       "  <thead>\n",
       "    <tr style=\"text-align: right;\">\n",
       "      <th></th>\n",
       "      <th>gdp</th>\n",
       "      <th>imp</th>\n",
       "      <th>exp</th>\n",
       "      <th>lnd</th>\n",
       "      <th>agr</th>\n",
       "      <th>urb</th>\n",
       "      <th>pop</th>\n",
       "    </tr>\n",
       "    <tr>\n",
       "      <th>date</th>\n",
       "      <th></th>\n",
       "      <th></th>\n",
       "      <th></th>\n",
       "      <th></th>\n",
       "      <th></th>\n",
       "      <th></th>\n",
       "      <th></th>\n",
       "    </tr>\n",
       "  </thead>\n",
       "  <tbody>\n",
       "    <tr>\n",
       "      <th>2020</th>\n",
       "      <td>3.395270</td>\n",
       "      <td>16.928599</td>\n",
       "      <td>7.089634</td>\n",
       "      <td>NaN</td>\n",
       "      <td>NaN</td>\n",
       "      <td>35.451406</td>\n",
       "      <td>2.541386</td>\n",
       "    </tr>\n",
       "    <tr>\n",
       "      <th>2019</th>\n",
       "      <td>5.604370</td>\n",
       "      <td>20.875324</td>\n",
       "      <td>7.939977</td>\n",
       "      <td>NaN</td>\n",
       "      <td>NaN</td>\n",
       "      <td>33.521072</td>\n",
       "      <td>2.579697</td>\n",
       "    </tr>\n",
       "    <tr>\n",
       "      <th>2018</th>\n",
       "      <td>4.053940</td>\n",
       "      <td>22.826699</td>\n",
       "      <td>8.372676</td>\n",
       "      <td>33.563258</td>\n",
       "      <td>33.563258</td>\n",
       "      <td>31.111929</td>\n",
       "      <td>2.619969</td>\n",
       "    </tr>\n",
       "    <tr>\n",
       "      <th>2017</th>\n",
       "      <td>6.684560</td>\n",
       "      <td>23.474263</td>\n",
       "      <td>7.629369</td>\n",
       "      <td>33.242509</td>\n",
       "      <td>33.242509</td>\n",
       "      <td>33.779281</td>\n",
       "      <td>2.663414</td>\n",
       "    </tr>\n",
       "    <tr>\n",
       "      <th>2016</th>\n",
       "      <td>6.509712</td>\n",
       "      <td>27.086972</td>\n",
       "      <td>7.812081</td>\n",
       "      <td>33.057528</td>\n",
       "      <td>33.057528</td>\n",
       "      <td>34.698880</td>\n",
       "      <td>2.708073</td>\n",
       "    </tr>\n",
       "    <tr>\n",
       "      <th>...</th>\n",
       "      <td>...</td>\n",
       "      <td>...</td>\n",
       "      <td>...</td>\n",
       "      <td>...</td>\n",
       "      <td>...</td>\n",
       "      <td>...</td>\n",
       "      <td>...</td>\n",
       "    </tr>\n",
       "    <tr>\n",
       "      <th>1964</th>\n",
       "      <td>NaN</td>\n",
       "      <td>NaN</td>\n",
       "      <td>NaN</td>\n",
       "      <td>52.979110</td>\n",
       "      <td>52.979110</td>\n",
       "      <td>NaN</td>\n",
       "      <td>2.484148</td>\n",
       "    </tr>\n",
       "    <tr>\n",
       "      <th>1963</th>\n",
       "      <td>NaN</td>\n",
       "      <td>NaN</td>\n",
       "      <td>NaN</td>\n",
       "      <td>53.024523</td>\n",
       "      <td>53.024523</td>\n",
       "      <td>NaN</td>\n",
       "      <td>2.454549</td>\n",
       "    </tr>\n",
       "    <tr>\n",
       "      <th>1962</th>\n",
       "      <td>NaN</td>\n",
       "      <td>NaN</td>\n",
       "      <td>NaN</td>\n",
       "      <td>52.905540</td>\n",
       "      <td>52.905540</td>\n",
       "      <td>NaN</td>\n",
       "      <td>2.397853</td>\n",
       "    </tr>\n",
       "    <tr>\n",
       "      <th>1961</th>\n",
       "      <td>NaN</td>\n",
       "      <td>NaN</td>\n",
       "      <td>NaN</td>\n",
       "      <td>52.530427</td>\n",
       "      <td>52.530427</td>\n",
       "      <td>NaN</td>\n",
       "      <td>2.319962</td>\n",
       "    </tr>\n",
       "    <tr>\n",
       "      <th>1960</th>\n",
       "      <td>NaN</td>\n",
       "      <td>NaN</td>\n",
       "      <td>NaN</td>\n",
       "      <td>NaN</td>\n",
       "      <td>NaN</td>\n",
       "      <td>NaN</td>\n",
       "      <td>NaN</td>\n",
       "    </tr>\n",
       "  </tbody>\n",
       "</table>\n",
       "<p>61 rows × 7 columns</p>\n",
       "</div>"
      ],
      "text/plain": [
       "           gdp        imp       exp        lnd        agr        urb       pop\n",
       "date                                                                          \n",
       "2020  3.395270  16.928599  7.089634        NaN        NaN  35.451406  2.541386\n",
       "2019  5.604370  20.875324  7.939977        NaN        NaN  33.521072  2.579697\n",
       "2018  4.053940  22.826699  8.372676  33.563258  33.563258  31.111929  2.619969\n",
       "2017  6.684560  23.474263  7.629369  33.242509  33.242509  33.779281  2.663414\n",
       "2016  6.509712  27.086972  7.812081  33.057528  33.057528  34.698880  2.708073\n",
       "...        ...        ...       ...        ...        ...        ...       ...\n",
       "1964       NaN        NaN       NaN  52.979110  52.979110        NaN  2.484148\n",
       "1963       NaN        NaN       NaN  53.024523  53.024523        NaN  2.454549\n",
       "1962       NaN        NaN       NaN  52.905540  52.905540        NaN  2.397853\n",
       "1961       NaN        NaN       NaN  52.530427  52.530427        NaN  2.319962\n",
       "1960       NaN        NaN       NaN        NaN        NaN        NaN       NaN\n",
       "\n",
       "[61 rows x 7 columns]"
      ]
     },
     "execution_count": 86,
     "metadata": {},
     "output_type": "execute_result"
    }
   ],
   "source": [
    "df"
   ]
  },
  {
   "cell_type": "markdown",
   "id": "742fa83d",
   "metadata": {},
   "source": [
    "# define nodes and model"
   ]
  },
  {
   "cell_type": "code",
   "execution_count": 77,
   "id": "d3b5884b",
   "metadata": {},
   "outputs": [],
   "source": [
    "nodes = ['gdp','imp','exp','pop','lnd','urb','agr']"
   ]
  },
  {
   "cell_type": "code",
   "execution_count": 78,
   "id": "3f217aeb",
   "metadata": {},
   "outputs": [],
   "source": [
    "model = BayesianModel([('exp', 'gdp'), ('imp','gdp'),('pop','imp'),('urb','lnd'),('lnd','agr'), ('agr','exp')])"
   ]
  },
  {
   "cell_type": "code",
   "execution_count": 79,
   "id": "382a84fd",
   "metadata": {},
   "outputs": [],
   "source": [
    "years = {\"min\" : 1960, \"max\" : 2020} # world bank data is this format"
   ]
  },
  {
   "cell_type": "markdown",
   "id": "cec03777",
   "metadata": {},
   "source": [
    "# data pre-process ... "
   ]
  },
  {
   "cell_type": "code",
   "execution_count": 80,
   "id": "98e73c1d",
   "metadata": {},
   "outputs": [],
   "source": [
    "TIERS_NUM=3 # this is to devide the data into 3 teirs"
   ]
  },
  {
   "cell_type": "code",
   "execution_count": 87,
   "id": "038594cb",
   "metadata": {},
   "outputs": [],
   "source": [
    "def boundary_str(start, end, tier):\n",
    "    return f'{tier}: {start:+0,.2f} to {end:+0,.2f}'\n",
    "\n",
    "def relabel(v, boundaries):\n",
    "    if v >= boundaries[0][0] and v <= boundaries[0][1]:\n",
    "        return boundary_str(boundaries[0][0], boundaries[0][1], tier='A')\n",
    "    elif v >= boundaries[1][0] and v <= boundaries[1][1]:\n",
    "        return boundary_str(boundaries[1][0], boundaries[1][1], tier='B')\n",
    "    elif v >= boundaries[2][0] and v <= boundaries[2][1]:\n",
    "        return boundary_str(boundaries[2][0], boundaries[2][1], tier='C')\n",
    "    else:\n",
    "        return np.nan"
   ]
  },
  {
   "cell_type": "code",
   "execution_count": 88,
   "id": "d6b8f962",
   "metadata": {},
   "outputs": [],
   "source": [
    "def get_boundaries(tiers):\n",
    "    prev_tier = tiers[0]\n",
    "    boundaries = [(prev_tier[0], prev_tier[prev_tier.shape[0] - 1])]\n",
    "    for index, tier in enumerate(tiers):\n",
    "        if index != 0:\n",
    "            boundaries.append((prev_tier[prev_tier.shape[0] - 1], tier[tier.shape[0] - 1]))\n",
    "            prev_tier = tier\n",
    "    return boundaries"
   ]
  },
  {
   "cell_type": "code",
   "execution_count": 89,
   "id": "9793b3e5",
   "metadata": {},
   "outputs": [],
   "source": [
    "new_columns = {}\n",
    "for i, content in enumerate(df.items()):\n",
    "    (label, series) = content\n",
    "    values = np.sort(np.array([x for x in series.tolist() if not np.isnan(x)] , dtype=float))\n",
    "    if values.shape[0] < TIERS_NUM:\n",
    "        print(f'Error: there are not enough data for label {label}')\n",
    "        break\n",
    "    boundaries = get_boundaries(tiers=np.array_split(values, TIERS_NUM))\n",
    "    new_columns[label] = [relabel(value, boundaries) for value in series.tolist()]\n",
    "\n",
    "df = DataFrame(data=new_columns)\n",
    "df.columns = nodes\n",
    "df.index = range(years[\"min\"], years[\"max\"] + 1)\n"
   ]
  },
  {
   "cell_type": "markdown",
   "id": "0e1ae896",
   "metadata": {},
   "source": [
    "# Learning of network parameters"
   ]
  },
  {
   "cell_type": "code",
   "execution_count": 92,
   "id": "55b92389",
   "metadata": {},
   "outputs": [],
   "source": [
    "model.cpds = []\n",
    "model.fit(data=df,\n",
    "          estimator=BayesianEstimator,\n",
    "          prior_type=\"BDeu\",\n",
    "          equivalent_sample_size=10,\n",
    "          complete_samples_only=False)  "
   ]
  },
  {
   "cell_type": "markdown",
   "id": "e4835587",
   "metadata": {},
   "source": [
    "# Key observation in the last cell is the fact that it the line where complete_samples_only=False is where BN is able to learn from incomplete data"
   ]
  },
  {
   "cell_type": "code",
   "execution_count": 94,
   "id": "84b65b1c",
   "metadata": {},
   "outputs": [
    {
     "name": "stdout",
     "output_type": "stream",
     "text": [
      "Check model: True\n",
      "\n",
      "CPT of exp:\n",
      "+--------------------------+------------------------+------------------------+------------------------+\n",
      "| agr                      | agr(A: +1.23 to +2.62) | agr(B: +2.62 to +2.88) | agr(C: +2.88 to +3.59) |\n",
      "+--------------------------+------------------------+------------------------+------------------------+\n",
      "| exp(A: +7.09 to +7.94)   | 0.49122807017543857    | 0.30107526881720437    | 0.3333333333333333     |\n",
      "+--------------------------+------------------------+------------------------+------------------------+\n",
      "| exp(B: +7.94 to +11.64)  | 0.3333333333333333     | 0.30107526881720437    | 0.3333333333333333     |\n",
      "+--------------------------+------------------------+------------------------+------------------------+\n",
      "| exp(C: +11.64 to +16.69) | 0.17543859649122806    | 0.3978494623655914     | 0.3333333333333333     |\n",
      "+--------------------------+------------------------+------------------------+------------------------+ \n",
      "\n",
      "CPT of gdp:\n",
      "+-------------------------+--------------------------+--------------------------+--------------------------+--------------------------+--------------------------+--------------------------+--------------------------+--------------------------+--------------------------+\n",
      "| exp                     | exp(A: +7.09 to +7.94)   | exp(A: +7.09 to +7.94)   | exp(A: +7.09 to +7.94)   | exp(B: +7.94 to +11.64)  | exp(B: +7.94 to +11.64)  | exp(B: +7.94 to +11.64)  | exp(C: +11.64 to +16.69) | exp(C: +11.64 to +16.69) | exp(C: +11.64 to +16.69) |\n",
      "+-------------------------+--------------------------+--------------------------+--------------------------+--------------------------+--------------------------+--------------------------+--------------------------+--------------------------+--------------------------+\n",
      "| imp                     | imp(A: +16.93 to +23.47) | imp(B: +23.47 to +29.10) | imp(C: +29.10 to +31.63) | imp(A: +16.93 to +23.47) | imp(B: +23.47 to +29.10) | imp(C: +29.10 to +31.63) | imp(A: +16.93 to +23.47) | imp(B: +23.47 to +29.10) | imp(C: +29.10 to +31.63) |\n",
      "+-------------------------+--------------------------+--------------------------+--------------------------+--------------------------+--------------------------+--------------------------+--------------------------+--------------------------+--------------------------+\n",
      "| gdp(A: -13.94 to +0.05) | 0.0900900900900901       | 0.1754385964912281       | 0.3333333333333333       | 0.1754385964912281       | 0.1754385964912281       | 0.1754385964912281       | 0.3333333333333333       | 0.1754385964912281       | 0.11904761904761905      |\n",
      "+-------------------------+--------------------------+--------------------------+--------------------------+--------------------------+--------------------------+--------------------------+--------------------------+--------------------------+--------------------------+\n",
      "| gdp(B: +0.05 to +6.68)  | 0.8198198198198199       | 0.6491228070175439       | 0.3333333333333333       | 0.6491228070175439       | 0.1754385964912281       | 0.1754385964912281       | 0.3333333333333333       | 0.1754385964912281       | 0.44047619047619047      |\n",
      "+-------------------------+--------------------------+--------------------------+--------------------------+--------------------------+--------------------------+--------------------------+--------------------------+--------------------------+--------------------------+\n",
      "| gdp(C: +6.68 to +10.41) | 0.0900900900900901       | 0.1754385964912281       | 0.3333333333333333       | 0.1754385964912281       | 0.6491228070175439       | 0.6491228070175439       | 0.3333333333333333       | 0.6491228070175439       | 0.44047619047619047      |\n",
      "+-------------------------+--------------------------+--------------------------+--------------------------+--------------------------+--------------------------+--------------------------+--------------------------+--------------------------+--------------------------+ \n",
      "\n",
      "CPT of imp:\n",
      "+--------------------------+--------------------------+--------------------------+--------------------------+\n",
      "| pop                      | pop(A: +29.31 to +32.31) | pop(B: +32.31 to +53.00) | pop(C: +53.00 to +54.07) |\n",
      "+--------------------------+--------------------------+--------------------------+--------------------------+\n",
      "| imp(A: +16.93 to +23.47) | 0.20833333333333331      | 0.33333333333333337      | 0.3333333333333333       |\n",
      "+--------------------------+--------------------------+--------------------------+--------------------------+\n",
      "| imp(B: +23.47 to +29.10) | 0.20833333333333331      | 0.44047619047619047      | 0.3333333333333333       |\n",
      "+--------------------------+--------------------------+--------------------------+--------------------------+\n",
      "| imp(C: +29.10 to +31.63) | 0.5833333333333333       | 0.22619047619047622      | 0.3333333333333333       |\n",
      "+--------------------------+--------------------------+--------------------------+--------------------------+ \n",
      "\n",
      "CPT of pop:\n",
      "+--------------------------+----------+\n",
      "| pop(A: +29.31 to +32.31) | 0.343137 |\n",
      "+--------------------------+----------+\n",
      "| pop(B: +32.31 to +53.00) | 0.328431 |\n",
      "+--------------------------+----------+\n",
      "| pop(C: +53.00 to +54.07) | 0.328431 |\n",
      "+--------------------------+----------+ \n",
      "\n",
      "CPT of urb:\n",
      "+--------------------------+----------+\n",
      "| urb(A: +31.11 to +41.45) | 0.346667 |\n",
      "+--------------------------+----------+\n",
      "| urb(B: +41.45 to +49.12) | 0.326667 |\n",
      "+--------------------------+----------+\n",
      "| urb(C: +49.12 to +63.83) | 0.326667 |\n",
      "+--------------------------+----------+ \n",
      "\n",
      "CPT of lnd:\n",
      "+--------------------------+--------------------------+--------------------------+--------------------------+\n",
      "| urb                      | urb(A: +31.11 to +41.45) | urb(B: +41.45 to +49.12) | urb(C: +49.12 to +63.83) |\n",
      "+--------------------------+--------------------------+--------------------------+--------------------------+\n",
      "| lnd(A: +29.31 to +32.31) | 0.463768115942029        | 0.6190476190476191       | 0.3741496598639456       |\n",
      "+--------------------------+--------------------------+--------------------------+--------------------------+\n",
      "| lnd(B: +32.31 to +53.00) | 0.463768115942029        | 0.3129251700680272       | 0.43537414965986393      |\n",
      "+--------------------------+--------------------------+--------------------------+--------------------------+\n",
      "| lnd(C: +53.00 to +54.07) | 0.07246376811594203      | 0.06802721088435375      | 0.1904761904761905       |\n",
      "+--------------------------+--------------------------+--------------------------+--------------------------+ \n",
      "\n",
      "CPT of agr:\n",
      "+------------------------+--------------------------+--------------------------+--------------------------+\n",
      "| lnd                    | lnd(A: +29.31 to +32.31) | lnd(B: +32.31 to +53.00) | lnd(C: +53.00 to +54.07) |\n",
      "+------------------------+--------------------------+--------------------------+--------------------------+\n",
      "| agr(A: +1.23 to +2.62) | 0.04761904761904762      | 0.2288557213930348       | 0.6766169154228856       |\n",
      "+------------------------+--------------------------+--------------------------+--------------------------+\n",
      "| agr(B: +2.62 to +2.88) | 0.6047619047619047       | 0.2736318407960199       | 0.13930348258706468      |\n",
      "+------------------------+--------------------------+--------------------------+--------------------------+\n",
      "| agr(C: +2.88 to +3.59) | 0.3476190476190476       | 0.4975124378109453       | 0.18407960199004975      |\n",
      "+------------------------+--------------------------+--------------------------+--------------------------+ \n",
      "\n"
     ]
    }
   ],
   "source": [
    "print(f'Check model: {model.check_model()}\\n')\n",
    "for cpd in model.get_cpds():\n",
    "    print(f'CPT of {cpd.variable}:')\n",
    "    print(cpd, '\\n')"
   ]
  },
  {
   "cell_type": "markdown",
   "id": "e984cea6",
   "metadata": {},
   "source": [
    "## At this point the model is ready to go. That means factorizations, conditional dependencies and the priors, have already been learned by the algorithm. Then from here, we can make all types of queries that we think are of economic value. "
   ]
  },
  {
   "cell_type": "markdown",
   "id": "3f6ac42a",
   "metadata": {},
   "source": [
    "## For example to see what factor is dependant on what, we can query to see all the independencies as ... "
   ]
  },
  {
   "cell_type": "code",
   "execution_count": 95,
   "id": "fb400e05",
   "metadata": {},
   "outputs": [
    {
     "data": {
      "text/plain": [
       "(agr ⟂ imp, pop)\n",
       "(agr ⟂ imp | pop)\n",
       "(agr ⟂ imp, pop, urb | lnd)\n",
       "(agr ⟂ imp, pop | urb)\n",
       "(agr ⟂ pop | imp)\n",
       "(agr ⟂ imp, pop, gdp | exp)\n",
       "(agr ⟂ imp, urb | pop, lnd)\n",
       "(agr ⟂ imp | pop, urb)\n",
       "(agr ⟂ imp, gdp | pop, exp)\n",
       "(agr ⟂ imp, pop | urb, lnd)\n",
       "(agr ⟂ urb | lnd, gdp)\n",
       "(agr ⟂ pop, urb | imp, lnd)\n",
       "(agr ⟂ imp, pop, urb, gdp | lnd, exp)\n",
       "(agr ⟂ pop | imp, urb)\n",
       "(agr ⟂ imp, pop, gdp | urb, exp)\n",
       "(agr ⟂ pop | imp, gdp)\n",
       "(agr ⟂ imp, pop | gdp, exp)\n",
       "(agr ⟂ pop, gdp | imp, exp)\n",
       "(agr ⟂ imp | urb, pop, lnd)\n",
       "(agr ⟂ urb | pop, lnd, gdp)\n",
       "(agr ⟂ urb | imp, pop, lnd)\n",
       "(agr ⟂ imp, urb, gdp | pop, lnd, exp)\n",
       "(agr ⟂ imp, gdp | pop, urb, exp)\n",
       "(agr ⟂ imp | pop, gdp, exp)\n",
       "(agr ⟂ gdp | imp, pop, exp)\n",
       "(agr ⟂ pop | urb, imp, lnd)\n",
       "(agr ⟂ imp, pop, gdp | urb, lnd, exp)\n",
       "(agr ⟂ pop, urb | imp, lnd, gdp)\n",
       "(agr ⟂ imp, pop, urb | lnd, exp, gdp)\n",
       "(agr ⟂ pop, urb, gdp | imp, lnd, exp)\n",
       "(agr ⟂ pop | imp, urb, gdp)\n",
       "(agr ⟂ imp, pop | urb, exp, gdp)\n",
       "(agr ⟂ pop, gdp | imp, urb, exp)\n",
       "(agr ⟂ pop | imp, gdp, exp)\n",
       "(agr ⟂ imp, gdp | urb, pop, lnd, exp)\n",
       "(agr ⟂ urb | imp, pop, lnd, gdp)\n",
       "(agr ⟂ imp, urb | pop, lnd, exp, gdp)\n",
       "(agr ⟂ urb, gdp | imp, pop, lnd, exp)\n",
       "(agr ⟂ imp | pop, urb, exp, gdp)\n",
       "(agr ⟂ gdp | imp, pop, urb, exp)\n",
       "(agr ⟂ pop | urb, imp, lnd, gdp)\n",
       "(agr ⟂ imp, pop | urb, lnd, exp, gdp)\n",
       "(agr ⟂ pop, gdp | urb, imp, lnd, exp)\n",
       "(agr ⟂ pop, urb | imp, lnd, exp, gdp)\n",
       "(agr ⟂ pop | imp, urb, exp, gdp)\n",
       "(agr ⟂ imp | urb, lnd, pop, gdp, exp)\n",
       "(agr ⟂ gdp | urb, lnd, imp, pop, exp)\n",
       "(agr ⟂ urb | lnd, imp, pop, gdp, exp)\n",
       "(agr ⟂ pop | urb, lnd, imp, gdp, exp)\n",
       "(pop ⟂ agr, urb, lnd, exp)\n",
       "(pop ⟂ lnd, urb, exp | agr)\n",
       "(pop ⟂ agr, urb, exp | lnd)\n",
       "(pop ⟂ agr, lnd, exp | urb)\n",
       "(pop ⟂ agr, lnd, urb, gdp, exp | imp)\n",
       "(pop ⟂ agr, lnd, urb | exp)\n",
       "(pop ⟂ urb, exp | agr, lnd)\n",
       "(pop ⟂ lnd, exp | agr, urb)\n",
       "(pop ⟂ lnd, urb | agr, gdp)\n",
       "(pop ⟂ lnd, urb, exp, gdp | agr, imp)\n",
       "(pop ⟂ lnd, urb | agr, exp)\n",
       "(pop ⟂ agr, exp | urb, lnd)\n",
       "(pop ⟂ urb | lnd, gdp)\n",
       "(pop ⟂ agr, urb, exp, gdp | imp, lnd)\n",
       "(pop ⟂ agr, urb | lnd, exp)\n",
       "(pop ⟂ agr, lnd, exp, gdp | imp, urb)\n",
       "(pop ⟂ agr, lnd | urb, exp)\n",
       "(pop ⟂ agr, lnd, urb, exp | imp, gdp)\n",
       "(pop ⟂ agr, lnd, urb | gdp, exp)\n",
       "(pop ⟂ agr, lnd, urb, gdp | imp, exp)\n",
       "(pop ⟂ exp | agr, urb, lnd)\n",
       "(pop ⟂ urb | agr, lnd, gdp)\n",
       "(pop ⟂ urb, exp, gdp | agr, imp, lnd)\n",
       "(pop ⟂ urb | agr, lnd, exp)\n",
       "(pop ⟂ lnd | agr, urb, gdp)\n",
       "(pop ⟂ lnd, exp, gdp | agr, imp, urb)\n",
       "(pop ⟂ lnd | agr, urb, exp)\n",
       "(pop ⟂ lnd, urb, exp | agr, imp, gdp)\n",
       "(pop ⟂ lnd, urb | agr, gdp, exp)\n",
       "(pop ⟂ lnd, urb, gdp | agr, imp, exp)\n",
       "(pop ⟂ agr, gdp, exp | urb, imp, lnd)\n",
       "(pop ⟂ agr | urb, lnd, exp)\n",
       "(pop ⟂ agr, urb, exp | imp, lnd, gdp)\n",
       "(pop ⟂ agr, urb | lnd, exp, gdp)\n",
       "(pop ⟂ agr, urb, gdp | imp, lnd, exp)\n",
       "(pop ⟂ agr, lnd, exp | imp, urb, gdp)\n",
       "(pop ⟂ agr, lnd | urb, exp, gdp)\n",
       "(pop ⟂ agr, lnd, gdp | imp, urb, exp)\n",
       "(pop ⟂ agr, lnd, urb | imp, gdp, exp)\n",
       "(pop ⟂ gdp, exp | agr, urb, imp, lnd)\n",
       "(pop ⟂ urb, exp | agr, imp, lnd, gdp)\n",
       "(pop ⟂ urb | agr, lnd, exp, gdp)\n",
       "(pop ⟂ urb, gdp | agr, imp, lnd, exp)\n",
       "(pop ⟂ lnd, exp | agr, imp, urb, gdp)\n",
       "(pop ⟂ lnd | agr, urb, exp, gdp)\n",
       "(pop ⟂ lnd, gdp | agr, imp, urb, exp)\n",
       "(pop ⟂ lnd, urb | agr, imp, gdp, exp)\n",
       "(pop ⟂ agr, exp | urb, imp, lnd, gdp)\n",
       "(pop ⟂ agr | urb, lnd, exp, gdp)\n",
       "(pop ⟂ agr, gdp | urb, imp, lnd, exp)\n",
       "(pop ⟂ agr, urb | imp, lnd, exp, gdp)\n",
       "(pop ⟂ agr, lnd | imp, urb, exp, gdp)\n",
       "(pop ⟂ exp | urb, lnd, imp, agr, gdp)\n",
       "(pop ⟂ gdp | urb, lnd, imp, agr, exp)\n",
       "(pop ⟂ urb | lnd, imp, agr, gdp, exp)\n",
       "(pop ⟂ lnd | urb, imp, agr, gdp, exp)\n",
       "(pop ⟂ agr | urb, lnd, imp, gdp, exp)\n",
       "(urb ⟂ imp, pop)\n",
       "(urb ⟂ imp, pop, gdp, exp | agr)\n",
       "(urb ⟂ imp | pop)\n",
       "(urb ⟂ agr, pop, gdp, imp, exp | lnd)\n",
       "(urb ⟂ pop | imp)\n",
       "(urb ⟂ imp, pop, gdp | exp)\n",
       "(urb ⟂ imp, gdp, exp | agr, pop)\n",
       "(urb ⟂ imp, pop, gdp, exp | agr, lnd)\n",
       "(urb ⟂ imp, pop, exp | agr, gdp)\n",
       "(urb ⟂ pop, gdp, exp | agr, imp)\n",
       "(urb ⟂ imp, pop, gdp | agr, exp)\n",
       "(urb ⟂ agr, imp, gdp, exp | pop, lnd)\n",
       "(urb ⟂ imp, gdp | pop, exp)\n",
       "(urb ⟂ agr, imp, pop, exp | lnd, gdp)\n",
       "(urb ⟂ agr, pop, gdp, exp | imp, lnd)\n",
       "(urb ⟂ agr, imp, pop, gdp | lnd, exp)\n",
       "(urb ⟂ pop | imp, gdp)\n",
       "(urb ⟂ imp, pop | gdp, exp)\n",
       "(urb ⟂ pop, gdp | imp, exp)\n",
       "(urb ⟂ imp, gdp, exp | agr, pop, lnd)\n",
       "(urb ⟂ imp, exp | agr, pop, gdp)\n",
       "(urb ⟂ gdp, exp | agr, imp, pop)\n",
       "(urb ⟂ imp, gdp | agr, pop, exp)\n",
       "(urb ⟂ imp, pop, exp | agr, lnd, gdp)\n",
       "(urb ⟂ pop, gdp, exp | agr, imp, lnd)\n",
       "(urb ⟂ imp, pop, gdp | agr, lnd, exp)\n",
       "(urb ⟂ pop, exp | agr, imp, gdp)\n",
       "(urb ⟂ imp, pop | agr, gdp, exp)\n",
       "(urb ⟂ pop, gdp | agr, imp, exp)\n",
       "(urb ⟂ agr, imp, exp | pop, lnd, gdp)\n",
       "(urb ⟂ agr, gdp, exp | imp, pop, lnd)\n",
       "(urb ⟂ agr, imp, gdp | pop, lnd, exp)\n",
       "(urb ⟂ imp | pop, gdp, exp)\n",
       "(urb ⟂ gdp | imp, pop, exp)\n",
       "(urb ⟂ agr, pop, exp | imp, lnd, gdp)\n",
       "(urb ⟂ agr, imp, pop | lnd, exp, gdp)\n",
       "(urb ⟂ agr, pop, gdp | imp, lnd, exp)\n",
       "(urb ⟂ pop | imp, gdp, exp)\n",
       "(urb ⟂ imp, exp | agr, pop, lnd, gdp)\n",
       "(urb ⟂ gdp, exp | agr, imp, pop, lnd)\n",
       "(urb ⟂ imp, gdp | agr, pop, lnd, exp)\n",
       "(urb ⟂ exp | agr, imp, pop, gdp)\n",
       "(urb ⟂ imp | agr, pop, gdp, exp)\n",
       "(urb ⟂ gdp | agr, imp, pop, exp)\n",
       "(urb ⟂ pop, exp | agr, imp, lnd, gdp)\n",
       "(urb ⟂ imp, pop | agr, lnd, exp, gdp)\n",
       "(urb ⟂ pop, gdp | agr, imp, lnd, exp)\n",
       "(urb ⟂ pop | agr, imp, gdp, exp)\n",
       "(urb ⟂ agr, exp | imp, pop, lnd, gdp)\n",
       "(urb ⟂ agr, imp | pop, lnd, exp, gdp)\n",
       "(urb ⟂ agr, gdp | imp, pop, lnd, exp)\n",
       "(urb ⟂ agr, pop | imp, lnd, exp, gdp)\n",
       "(urb ⟂ exp | lnd, imp, agr, pop, gdp)\n",
       "(urb ⟂ imp | lnd, agr, pop, gdp, exp)\n",
       "(urb ⟂ gdp | lnd, imp, agr, pop, exp)\n",
       "(urb ⟂ pop | lnd, imp, agr, gdp, exp)\n",
       "(urb ⟂ agr | lnd, imp, pop, gdp, exp)\n",
       "(lnd ⟂ imp, pop)\n",
       "(lnd ⟂ imp, pop, gdp, exp | agr)\n",
       "(lnd ⟂ imp | pop)\n",
       "(lnd ⟂ imp, pop | urb)\n",
       "(lnd ⟂ pop | imp)\n",
       "(lnd ⟂ imp, pop, gdp | exp)\n",
       "(lnd ⟂ imp, gdp, exp | agr, pop)\n",
       "(lnd ⟂ imp, pop, gdp, exp | agr, urb)\n",
       "(lnd ⟂ imp, pop, exp | agr, gdp)\n",
       "(lnd ⟂ pop, gdp, exp | agr, imp)\n",
       "(lnd ⟂ imp, pop, gdp | agr, exp)\n",
       "(lnd ⟂ imp | pop, urb)\n",
       "(lnd ⟂ imp, gdp | pop, exp)\n",
       "(lnd ⟂ pop | imp, urb)\n",
       "(lnd ⟂ imp, pop, gdp | urb, exp)\n",
       "(lnd ⟂ pop | imp, gdp)\n",
       "(lnd ⟂ imp, pop | gdp, exp)\n",
       "(lnd ⟂ pop, gdp | imp, exp)\n",
       "(lnd ⟂ imp, gdp, exp | agr, pop, urb)\n",
       "(lnd ⟂ imp, exp | agr, pop, gdp)\n",
       "(lnd ⟂ gdp, exp | agr, imp, pop)\n",
       "(lnd ⟂ imp, gdp | agr, pop, exp)\n",
       "(lnd ⟂ imp, pop, exp | agr, urb, gdp)\n",
       "(lnd ⟂ pop, gdp, exp | agr, imp, urb)\n",
       "(lnd ⟂ imp, pop, gdp | agr, urb, exp)\n",
       "(lnd ⟂ pop, exp | agr, imp, gdp)\n",
       "(lnd ⟂ imp, pop | agr, gdp, exp)\n",
       "(lnd ⟂ pop, gdp | agr, imp, exp)\n",
       "(lnd ⟂ imp, gdp | pop, urb, exp)\n",
       "(lnd ⟂ imp | pop, gdp, exp)\n",
       "(lnd ⟂ gdp | imp, pop, exp)\n",
       "(lnd ⟂ pop | imp, urb, gdp)\n",
       "(lnd ⟂ imp, pop | urb, exp, gdp)\n",
       "(lnd ⟂ pop, gdp | imp, urb, exp)\n",
       "(lnd ⟂ pop | imp, gdp, exp)\n",
       "(lnd ⟂ imp, exp | agr, pop, urb, gdp)\n",
       "(lnd ⟂ gdp, exp | agr, imp, pop, urb)\n",
       "(lnd ⟂ imp, gdp | agr, pop, urb, exp)\n",
       "(lnd ⟂ exp | agr, imp, pop, gdp)\n",
       "(lnd ⟂ imp | agr, pop, gdp, exp)\n",
       "(lnd ⟂ gdp | agr, imp, pop, exp)\n",
       "(lnd ⟂ pop, exp | agr, imp, urb, gdp)\n",
       "(lnd ⟂ imp, pop | agr, urb, exp, gdp)\n",
       "(lnd ⟂ pop, gdp | agr, imp, urb, exp)\n",
       "(lnd ⟂ pop | agr, imp, gdp, exp)\n",
       "(lnd ⟂ imp | pop, urb, exp, gdp)\n",
       "(lnd ⟂ gdp | imp, pop, urb, exp)\n",
       "(lnd ⟂ pop | imp, urb, exp, gdp)\n",
       "(lnd ⟂ exp | urb, imp, agr, pop, gdp)\n",
       "(lnd ⟂ imp | urb, agr, pop, gdp, exp)\n",
       "(lnd ⟂ gdp | urb, imp, agr, pop, exp)\n",
       "(lnd ⟂ pop | urb, imp, agr, gdp, exp)\n",
       "(gdp ⟂ lnd, urb | agr)\n",
       "(gdp ⟂ urb | lnd)\n",
       "(gdp ⟂ pop | imp)\n",
       "(gdp ⟂ agr, lnd, urb | exp)\n",
       "(gdp ⟂ lnd, urb | agr, pop)\n",
       "(gdp ⟂ urb | agr, lnd)\n",
       "(gdp ⟂ lnd | agr, urb)\n",
       "(gdp ⟂ lnd, pop, urb | agr, imp)\n",
       "(gdp ⟂ lnd, urb | agr, exp)\n",
       "(gdp ⟂ urb | pop, lnd)\n",
       "(gdp ⟂ agr, lnd, urb | pop, exp)\n",
       "(gdp ⟂ pop, urb | imp, lnd)\n",
       "(gdp ⟂ agr, urb | lnd, exp)\n",
       "(gdp ⟂ pop | imp, urb)\n",
       "(gdp ⟂ agr, lnd | urb, exp)\n",
       "(gdp ⟂ agr, lnd, pop, urb | imp, exp)\n",
       "(gdp ⟂ urb | agr, pop, lnd)\n",
       "(gdp ⟂ lnd | agr, pop, urb)\n",
       "(gdp ⟂ lnd, urb | agr, imp, pop)\n",
       "(gdp ⟂ lnd, urb | agr, pop, exp)\n",
       "(gdp ⟂ pop, urb | agr, imp, lnd)\n",
       "(gdp ⟂ urb | agr, lnd, exp)\n",
       "(gdp ⟂ pop, lnd | agr, imp, urb)\n",
       "(gdp ⟂ lnd | agr, urb, exp)\n",
       "(gdp ⟂ lnd, pop, urb | agr, imp, exp)\n",
       "(gdp ⟂ urb | imp, pop, lnd)\n",
       "(gdp ⟂ agr, urb | pop, lnd, exp)\n",
       "(gdp ⟂ agr, lnd | pop, urb, exp)\n",
       "(gdp ⟂ agr, lnd, urb | imp, pop, exp)\n",
       "(gdp ⟂ pop | urb, imp, lnd)\n",
       "(gdp ⟂ agr | urb, lnd, exp)\n",
       "(gdp ⟂ agr, pop, urb | imp, lnd, exp)\n",
       "(gdp ⟂ agr, pop, lnd | imp, urb, exp)\n",
       "(gdp ⟂ urb | agr, imp, pop, lnd)\n",
       "(gdp ⟂ urb | agr, pop, lnd, exp)\n",
       "(gdp ⟂ lnd | agr, imp, pop, urb)\n",
       "(gdp ⟂ lnd | agr, pop, urb, exp)\n",
       "(gdp ⟂ lnd, urb | agr, imp, pop, exp)\n",
       "(gdp ⟂ pop | agr, urb, imp, lnd)\n",
       "(gdp ⟂ pop, urb | agr, imp, lnd, exp)\n",
       "(gdp ⟂ pop, lnd | agr, imp, urb, exp)\n",
       "(gdp ⟂ agr | urb, pop, lnd, exp)\n",
       "(gdp ⟂ agr, urb | imp, pop, lnd, exp)\n",
       "(gdp ⟂ agr, lnd | imp, pop, urb, exp)\n",
       "(gdp ⟂ agr, pop | urb, imp, lnd, exp)\n",
       "(gdp ⟂ urb | lnd, imp, agr, pop, exp)\n",
       "(gdp ⟂ lnd | urb, imp, agr, pop, exp)\n",
       "(gdp ⟂ pop | urb, lnd, imp, agr, exp)\n",
       "(gdp ⟂ agr | urb, lnd, imp, pop, exp)\n",
       "(imp ⟂ agr, urb, lnd, exp)\n",
       "(imp ⟂ lnd, urb, exp | agr)\n",
       "(imp ⟂ agr, lnd, urb, exp | pop)\n",
       "(imp ⟂ agr, urb, exp | lnd)\n",
       "(imp ⟂ agr, lnd, exp | urb)\n",
       "(imp ⟂ agr, lnd, urb | exp)\n",
       "(imp ⟂ lnd, urb, exp | agr, pop)\n",
       "(imp ⟂ urb, exp | agr, lnd)\n",
       "(imp ⟂ lnd, exp | agr, urb)\n",
       "(imp ⟂ lnd, urb | agr, gdp)\n",
       "(imp ⟂ lnd, urb | agr, exp)\n",
       "(imp ⟂ agr, urb, exp | pop, lnd)\n",
       "(imp ⟂ agr, lnd, exp | pop, urb)\n",
       "(imp ⟂ agr, lnd, urb | pop, exp)\n",
       "(imp ⟂ agr, exp | urb, lnd)\n",
       "(imp ⟂ urb | lnd, gdp)\n",
       "(imp ⟂ agr, urb | lnd, exp)\n",
       "(imp ⟂ agr, lnd | urb, exp)\n",
       "(imp ⟂ agr, lnd, urb | gdp, exp)\n",
       "(imp ⟂ urb, exp | agr, pop, lnd)\n",
       "(imp ⟂ lnd, exp | agr, pop, urb)\n",
       "(imp ⟂ lnd, urb | agr, pop, gdp)\n",
       "(imp ⟂ lnd, urb | agr, pop, exp)\n",
       "(imp ⟂ exp | agr, urb, lnd)\n",
       "(imp ⟂ urb | agr, lnd, gdp)\n",
       "(imp ⟂ urb | agr, lnd, exp)\n",
       "(imp ⟂ lnd | agr, urb, gdp)\n",
       "(imp ⟂ lnd | agr, urb, exp)\n",
       "(imp ⟂ lnd, urb | agr, gdp, exp)\n",
       "(imp ⟂ agr, exp | urb, pop, lnd)\n",
       "(imp ⟂ urb | pop, lnd, gdp)\n",
       "(imp ⟂ agr, urb | pop, lnd, exp)\n",
       "(imp ⟂ agr, lnd | pop, urb, exp)\n",
       "(imp ⟂ agr, lnd, urb | pop, gdp, exp)\n",
       "(imp ⟂ agr | urb, lnd, exp)\n",
       "(imp ⟂ agr, urb | lnd, exp, gdp)\n",
       "(imp ⟂ agr, lnd | urb, exp, gdp)\n",
       "(imp ⟂ exp | agr, urb, pop, lnd)\n",
       "(imp ⟂ urb | agr, pop, lnd, gdp)\n",
       "(imp ⟂ urb | agr, pop, lnd, exp)\n",
       "(imp ⟂ lnd | agr, pop, urb, gdp)\n",
       "(imp ⟂ lnd | agr, pop, urb, exp)\n",
       "(imp ⟂ lnd, urb | agr, pop, gdp, exp)\n",
       "(imp ⟂ urb | agr, lnd, exp, gdp)\n",
       "(imp ⟂ lnd | agr, urb, exp, gdp)\n",
       "(imp ⟂ agr | urb, pop, lnd, exp)\n",
       "(imp ⟂ agr, urb | pop, lnd, exp, gdp)\n",
       "(imp ⟂ agr, lnd | pop, urb, exp, gdp)\n",
       "(imp ⟂ agr | urb, lnd, exp, gdp)\n",
       "(imp ⟂ urb | lnd, agr, pop, gdp, exp)\n",
       "(imp ⟂ lnd | urb, agr, pop, gdp, exp)\n",
       "(imp ⟂ agr | urb, lnd, pop, gdp, exp)\n",
       "(exp ⟂ imp, pop)\n",
       "(exp ⟂ imp, lnd, pop, urb | agr)\n",
       "(exp ⟂ imp | pop)\n",
       "(exp ⟂ imp, pop, urb | lnd)\n",
       "(exp ⟂ imp, pop | urb)\n",
       "(exp ⟂ pop | imp)\n",
       "(exp ⟂ imp, lnd, urb | agr, pop)\n",
       "(exp ⟂ imp, pop, urb | agr, lnd)\n",
       "(exp ⟂ imp, pop, lnd | agr, urb)\n",
       "(exp ⟂ lnd, urb | agr, gdp)\n",
       "(exp ⟂ lnd, pop, urb | agr, imp)\n",
       "(exp ⟂ imp, urb | pop, lnd)\n",
       "(exp ⟂ imp | pop, urb)\n",
       "(exp ⟂ imp, pop | urb, lnd)\n",
       "(exp ⟂ urb | lnd, gdp)\n",
       "(exp ⟂ pop, urb | imp, lnd)\n",
       "(exp ⟂ pop | imp, urb)\n",
       "(exp ⟂ pop | imp, gdp)\n",
       "(exp ⟂ imp, urb | agr, pop, lnd)\n",
       "(exp ⟂ imp, lnd | agr, pop, urb)\n",
       "(exp ⟂ lnd, urb | agr, pop, gdp)\n",
       "(exp ⟂ lnd, urb | agr, imp, pop)\n",
       "(exp ⟂ imp, pop | agr, urb, lnd)\n",
       "(exp ⟂ urb | agr, lnd, gdp)\n",
       "(exp ⟂ pop, urb | agr, imp, lnd)\n",
       "(exp ⟂ lnd | agr, urb, gdp)\n",
       "(exp ⟂ pop, lnd | agr, imp, urb)\n",
       "(exp ⟂ lnd, pop, urb | agr, imp, gdp)\n",
       "(exp ⟂ imp | urb, pop, lnd)\n",
       "(exp ⟂ urb | pop, lnd, gdp)\n",
       "(exp ⟂ urb | imp, pop, lnd)\n",
       "(exp ⟂ pop | urb, imp, lnd)\n",
       "(exp ⟂ pop, urb | imp, lnd, gdp)\n",
       "(exp ⟂ pop | imp, urb, gdp)\n",
       "(exp ⟂ imp | agr, urb, pop, lnd)\n",
       "(exp ⟂ urb | agr, pop, lnd, gdp)\n",
       "(exp ⟂ urb | agr, imp, pop, lnd)\n",
       "(exp ⟂ lnd | agr, pop, urb, gdp)\n",
       "(exp ⟂ lnd | agr, imp, pop, urb)\n",
       "(exp ⟂ lnd, urb | agr, imp, pop, gdp)\n",
       "(exp ⟂ pop | agr, urb, imp, lnd)\n",
       "(exp ⟂ pop, urb | agr, imp, lnd, gdp)\n",
       "(exp ⟂ pop, lnd | agr, imp, urb, gdp)\n",
       "(exp ⟂ urb | imp, pop, lnd, gdp)\n",
       "(exp ⟂ pop | urb, imp, lnd, gdp)\n",
       "(exp ⟂ urb | lnd, imp, agr, pop, gdp)\n",
       "(exp ⟂ lnd | urb, imp, agr, pop, gdp)\n",
       "(exp ⟂ pop | urb, lnd, imp, agr, gdp)"
      ]
     },
     "execution_count": 95,
     "metadata": {},
     "output_type": "execute_result"
    }
   ],
   "source": [
    "model.get_independencies()"
   ]
  },
  {
   "cell_type": "markdown",
   "id": "e7a58e0d",
   "metadata": {},
   "source": [
    "## The last cell alone shows a lot of valable information for an economist or a policy maker"
   ]
  },
  {
   "cell_type": "code",
   "execution_count": 98,
   "id": "cdc0f44a",
   "metadata": {},
   "outputs": [
    {
     "data": {
      "text/plain": [
       "(gdp ⟂ agr, lnd, pop, urb | imp, exp)"
      ]
     },
     "execution_count": 98,
     "metadata": {},
     "output_type": "execute_result"
    }
   ],
   "source": [
    "model.local_independencies('gdp')"
   ]
  },
  {
   "cell_type": "markdown",
   "id": "6fb6fa00",
   "metadata": {},
   "source": [
    "# print markov blankets"
   ]
  },
  {
   "cell_type": "code",
   "execution_count": 103,
   "id": "75c61769",
   "metadata": {},
   "outputs": [
    {
     "data": {
      "text/plain": [
       "['imp']"
      ]
     },
     "execution_count": 103,
     "metadata": {},
     "output_type": "execute_result"
    }
   ],
   "source": [
    "model.get_markov_blanket('pop')"
   ]
  },
  {
   "cell_type": "markdown",
   "id": "d06c5e14",
   "metadata": {},
   "source": [
    "# read indepndeces "
   ]
  },
  {
   "cell_type": "code",
   "execution_count": 74,
   "id": "d0c993fa",
   "metadata": {},
   "outputs": [
    {
     "data": {
      "text/plain": [
       "(imp ⟂ agr, lnd, urb, exp | pop)"
      ]
     },
     "execution_count": 74,
     "metadata": {},
     "output_type": "execute_result"
    }
   ],
   "source": [
    "model.local_independencies('imp')"
   ]
  },
  {
   "cell_type": "code",
   "execution_count": 67,
   "id": "7b837df0",
   "metadata": {},
   "outputs": [
    {
     "data": {
      "text/plain": [
       "['agr', 'urb']"
      ]
     },
     "execution_count": 67,
     "metadata": {},
     "output_type": "execute_result"
    }
   ],
   "source": [
    "model.get_markov_blanket('lnd')"
   ]
  },
  {
   "cell_type": "markdown",
   "id": "296d9a75",
   "metadata": {},
   "source": [
    "# Inference "
   ]
  },
  {
   "cell_type": "code",
   "execution_count": 105,
   "id": "1f472672",
   "metadata": {},
   "outputs": [],
   "source": [
    "infer = VariableElimination(model)"
   ]
  },
  {
   "cell_type": "code",
   "execution_count": 113,
   "id": "77bcb074",
   "metadata": {},
   "outputs": [
    {
     "name": "stderr",
     "output_type": "stream",
     "text": [
      "Finding Elimination Order: : 100%|███████████████████████████████████████████████████████████████████████████████████████████████████████████████████████████████████████████| 2/2 [00:00<00:00, 1770.50it/s]\n",
      "Eliminating: pop: 100%|███████████████████████████████████████████████████████████████████████████████████████████████████████████████████████████████████████████████████████| 2/2 [00:00<00:00, 271.84it/s]"
     ]
    },
    {
     "name": "stdout",
     "output_type": "stream",
     "text": [
      "+-------------------------+------------+\n",
      "| gdp                     |   phi(gdp) |\n",
      "+=========================+============+\n",
      "| gdp(A: -13.94 to +0.05) |     0.1754 |\n",
      "+-------------------------+------------+\n",
      "| gdp(B: +0.05 to +6.68)  |     0.3130 |\n",
      "+-------------------------+------------+\n",
      "| gdp(C: +6.68 to +10.41) |     0.5115 |\n",
      "+-------------------------+------------+\n"
     ]
    },
    {
     "name": "stderr",
     "output_type": "stream",
     "text": [
      "\n"
     ]
    }
   ],
   "source": [
    "print(infer.query(variables=['gdp'], evidence={'exp':1}))"
   ]
  },
  {
   "cell_type": "code",
   "execution_count": 115,
   "id": "bcce90f1",
   "metadata": {},
   "outputs": [
    {
     "name": "stderr",
     "output_type": "stream",
     "text": [
      "Finding Elimination Order: : 100%|███████████████████████████████████████████████████████████████████████████████████████████████████████████████████████████████████████████| 6/6 [00:00<00:00, 4434.51it/s]\n",
      "Eliminating: exp: 100%|███████████████████████████████████████████████████████████████████████████████████████████████████████████████████████████████████████████████████████| 6/6 [00:00<00:00, 557.65it/s]"
     ]
    },
    {
     "name": "stdout",
     "output_type": "stream",
     "text": [
      "+-------------------------+------------+\n",
      "| gdp                     |   phi(gdp) |\n",
      "+=========================+============+\n",
      "| gdp(A: -13.94 to +0.05) |     0.1960 |\n",
      "+-------------------------+------------+\n",
      "| gdp(B: +0.05 to +6.68)  |     0.4088 |\n",
      "+-------------------------+------------+\n",
      "| gdp(C: +6.68 to +10.41) |     0.3952 |\n",
      "+-------------------------+------------+\n"
     ]
    },
    {
     "name": "stderr",
     "output_type": "stream",
     "text": [
      "\n"
     ]
    }
   ],
   "source": [
    "print(infer.query(variables=['gdp']))"
   ]
  },
  {
   "cell_type": "markdown",
   "id": "179190ed",
   "metadata": {},
   "source": [
    "# assetinos can also be made"
   ]
  },
  {
   "cell_type": "code",
   "execution_count": 117,
   "id": "ca9d69fa",
   "metadata": {},
   "outputs": [
    {
     "data": {
      "text/plain": [
       "(pop ⟂ lnd | gdp)"
      ]
     },
     "execution_count": 117,
     "metadata": {},
     "output_type": "execute_result"
    }
   ],
   "source": [
    "IndependenceAssertion('pop', 'lnd', 'gdp')"
   ]
  }
 ],
 "metadata": {
  "kernelspec": {
   "display_name": "Python 3 (ipykernel)",
   "language": "python",
   "name": "python3"
  },
  "language_info": {
   "codemirror_mode": {
    "name": "ipython",
    "version": 3
   },
   "file_extension": ".py",
   "mimetype": "text/x-python",
   "name": "python",
   "nbconvert_exporter": "python",
   "pygments_lexer": "ipython3",
   "version": "3.8.10"
  }
 },
 "nbformat": 4,
 "nbformat_minor": 5
}
