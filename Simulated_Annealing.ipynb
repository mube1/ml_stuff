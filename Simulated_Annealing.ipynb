{
  "nbformat": 4,
  "nbformat_minor": 0,
  "metadata": {
    "colab": {
      "name": "Simulated Annealing.ipynb",
      "provenance": []
    },
    "kernelspec": {
      "name": "python3",
      "display_name": "Python 3"
    }
  },
  "cells": [
    {
      "cell_type": "code",
      "metadata": {
        "id": "RLTeIJ1BdnXN"
      },
      "source": [
        "import numpy as np\n",
        "import matplotlib.pyplot as plt \n",
        "import matplotlib as plotter\n",
        "from scipy.constants import k as BoltzmanConstant\n",
        "# Initial parameters\n",
        "\n",
        "cities=10# total number of cities to be traversed\n",
        "\n",
        "\n",
        "# coordinates for cities picked at random\n",
        "x =np.random.randint(0,10,size=cities)\n",
        "y = np.random.randint(0,10,size=cities)\n",
        "\n",
        "# fixed names of the cities...goes city no 1, city no 2 , .... etc\n",
        "geography={}\n",
        "for i in range(cities):\n",
        "  geography[i]=(x[i],y[i])\n",
        "\n",
        "T=36 # temp is cut off at 0\n",
        "decreasing_rate=.8 \n",
        "total_iterations=1000\n",
        "\n",
        "# initial solution\n",
        "current_iteranary= np.random.choice(cities, size=cities, replace=False)\n",
        "\n",
        "\n",
        "def plot_cities(iteranary):\n",
        "  temp_x=['None']*(cities+1)\n",
        "  temp_y=['None']*(cities+1)\n",
        " \n",
        "  L=len(iteranary)\n",
        "  \n",
        "  for i in range(L):\n",
        "    point=geography[iteranary[i]]\n",
        "    temp_x[i]=point[0]\n",
        "    temp_y[i]=point[1]\n",
        "\n",
        "  temp_x[-1]=temp_x[0]\n",
        "  temp_y[-1]=temp_y[0]\n",
        "  \n",
        "  plt.plot(temp_x,temp_y,'-ok')\n",
        "\n",
        "def costfuction(iteranary): # also can do cost of a segment\n",
        "  L = len(iteranary)\n",
        "  d=0\n",
        "  for i in range(L-1):\n",
        "    a=[x[iteranary[i]],y[iteranary[i]]]\n",
        "    b=[x[iteranary[i+1]],y[iteranary[i+1]]]\n",
        "    d+= np.linalg.norm(np.array(a)-np.array(b))\n",
        "  \n",
        "  # distance from the last city to the first city\n",
        "  a=[x[iteranary[-1]],y[iteranary[-1]]]\n",
        "  b=[ x[iteranary[0]],y[iteranary[0]]]\n",
        "  d+=np.linalg.norm(np.array(a)-np.array(b))\n",
        "\n",
        "  return d\n",
        "\n",
        "# this function gives a neighbour\n",
        "def get_neighbour(iteranary): \n",
        "  L=len(iteranary)\n",
        "  neighbour=np.arange(L)\n",
        "  i=np.random.randint(0,cities)\n",
        "  j=(i+1)%L\n",
        "\n",
        "  for i in range(L):\n",
        "    neighbour[i]=iteranary[i]\n",
        " \n",
        "  temp=neighbour[i]\n",
        "  neighbour[i]=neighbour[j]\n",
        "  neighbour[j]=temp\n",
        "  return neighbour\n",
        "\n",
        "def decrease_temprature(T, choice, INDEX):\n",
        "  if choice == 0 :\n",
        "    return decreasing_rate * T\n",
        "  elif choice == 1:\n",
        "    return T/1+ np.log(1+INDEX)\n",
        "  elif choice == 2:\n",
        "    return T/(1+INDEX* decreasing_rate)"
      ],
      "execution_count": null,
      "outputs": []
    },
    {
      "cell_type": "code",
      "metadata": {
        "colab": {
          "base_uri": "https://localhost:8080/",
          "height": 283
        },
        "id": "bMYmCPVLebsW",
        "outputId": "735c8c28-9814-44ee-b412-e7e07ad26fb0"
      },
      "source": [
        "plt.plot(x,y, '*')"
      ],
      "execution_count": null,
      "outputs": [
        {
          "output_type": "execute_result",
          "data": {
            "text/plain": [
              "[<matplotlib.lines.Line2D at 0x7f76ac5fb5d0>]"
            ]
          },
          "metadata": {
            "tags": []
          },
          "execution_count": 129
        },
        {
          "output_type": "display_data",
          "data": {
            "image/png": "[encoded data removed]",
            "text/plain": [
              "<Figure size 432x288 with 1 Axes>"
            ]
          },
          "metadata": {
            "tags": [],
            "needs_background": "light"
          }
        }
      ]
    },
    {
      "cell_type": "code",
      "metadata": {
        "colab": {
          "base_uri": "https://localhost:8080/",
          "height": 265
        },
        "id": "039VpeTzlUK4",
        "outputId": "02a97fe3-1c5a-4d99-b45b-be8001eef423"
      },
      "source": [
        "\n",
        "plot_cities(current_iteranary)\n"
      ],
      "execution_count": null,
      "outputs": [
        {
          "output_type": "display_data",
          "data": {
            "image/png": "[encoded data removed]",
            "text/plain": [
              "<Figure size 432x288 with 1 Axes>"
            ]
          },
          "metadata": {
            "tags": [],
            "needs_background": "light"
          }
        }
      ]
    },
    {
      "cell_type": "code",
      "metadata": {
        "colab": {
          "base_uri": "https://localhost:8080/",
          "height": 283
        },
        "id": "TXBCrEfS3oOx",
        "outputId": "15e1251e-4b91-4a80-a4e9-ec463117acd6"
      },
      "source": [
        "def annealing(T, current_iteranary, rate, maximum_iteration ,choice_of_cooling):  \n",
        "\n",
        "  acceptance_score=0\n",
        "  index=0\n",
        "  while T>0:\n",
        "    proposed=get_neighbour(current_iteranary)  # get random neighbour solution \n",
        "   \n",
        "    e=costfuction(current_iteranary)\n",
        "    e_new=costfuction(proposed)\n",
        "    \n",
        "    p=min(np.exp(-e_new-e/(T*BoltzmanConstant)), 1)\n",
        "\n",
        "    if (e_new<e) or (p> np.random.random()): # accepting with probability\n",
        "      current_iteranary= proposed\n",
        "      cost=e_new\n",
        "      acceptance_score+= 1\n",
        "    else:\n",
        "      cost=e\n",
        "    \n",
        "    \n",
        "    #print(acceptance_score, '\\t',index)\n",
        "\n",
        "    T=decrease_temprature(T,choice_of_cooling, index)\n",
        "    if index > maximum_iteration:\n",
        "      break\n",
        "    index+=1\n",
        "\n",
        "  plot_cities(current_iteranary)\n",
        "\n",
        "  return current_iteranary, cost\n",
        "\n",
        "\n",
        "f, cost=annealing(T,current_iteranary, decreasing_rate, total_iterations, choice_of_cooling=0)\n",
        "print(f, cost)"
      ],
      "execution_count": null,
      "outputs": [
        {
          "output_type": "stream",
          "text": [
            "[1 4 5 6 0 2 3 8 9 7] 42.87667305334555\n"
          ],
          "name": "stdout"
        },
        {
          "output_type": "display_data",
          "data": {
            "image/png": "[encoded data removed]",
            "text/plain": [
              "<Figure size 432x288 with 1 Axes>"
            ]
          },
          "metadata": {
            "tags": [],
            "needs_background": "light"
          }
        }
      ]
    },
    {
      "cell_type": "code",
      "metadata": {
        "id": "4S6ChKYbvREm"
      },
      "source": [
        "\"\"\"class annealing():\n",
        "  rate= .7\n",
        "  T=None\n",
        "\n",
        "  def check_acceptance():\n",
        "    \n",
        "\n",
        "  def annealing(T):\n",
        "    self.T=T\n",
        "\n",
        "  def cooling_schedule(choice, T):\n",
        "    if choice == 0:\n",
        "      return self.T * rate\n",
        "    elif choice == 1:\n",
        "      return self.T/ \n",
        "\n",
        "  def annealing(self):  \n",
        "    while T>0:   \n",
        "    proposed= get_neighbour(current_iteranary)  # get random neighbour solution \n",
        "    e=costfuction(current_iteranary)\n",
        "    e_new=costfuction(proposed)\n",
        "  \n",
        "    if e_new<e:\n",
        "      current_iteranary= proposed\n",
        "      cost=e_new\n",
        "    else:\n",
        "      p=np.exp(-(e-e_new)/T , dtype=np.float128)             # accepting with probability\n",
        "      p= min(p,1)\n",
        "      some_value=np.random.random(size=1)\n",
        "      if  p>some_value :\n",
        "        current_iteranary= proposed\n",
        "        cost=e_new\n",
        "      else:\n",
        "        cost=e\n",
        "    # some value revert  \n",
        "\n",
        "    \n",
        "   T=T* rate\n",
        "  plot_cities(current_iteranary)\n",
        "\n",
        "  return current_iteranary, cost\"\"\""
      ],
      "execution_count": null,
      "outputs": []
    }
  ]
}