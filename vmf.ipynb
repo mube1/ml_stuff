{
 "cells": [
  {
   "cell_type": "code",
   "execution_count": 1,
   "id": "d0dee158",
   "metadata": {},
   "outputs": [],
   "source": [
    "import numpy as np\n",
    "import matplotlib.pyplot as plt\n",
    "from skimage import io, img_as_float, filters\n",
    "from skimage.metrics import peak_signal_noise_ratio, structural_similarity"
   ]
  },
  {
   "cell_type": "code",
   "execution_count": 2,
   "id": "bbb4747b",
   "metadata": {},
   "outputs": [
    {
     "name": "stdout",
     "output_type": "stream",
     "text": [
      "(321, 481, 3)\n"
     ]
    },
    {
     "data": {
      "text/plain": [
       "(323, 483, 3)"
      ]
     },
     "execution_count": 2,
     "metadata": {},
     "output_type": "execute_result"
    }
   ],
   "source": [
    "img=img_as_float(io.imread('2092.png'))\n",
    "img_noiseless=(img_as_float(io.imread('images/noiseless/2092.png')))\n",
    "print(img.shape)\n",
    "\n",
    "padded= np.zeros((img.shape[0]+2,img.shape[1]+2,3))\n",
    "padded[1:-1,1:-1, :]=img\n",
    "padded.shape"
   ]
  },
  {
   "cell_type": "code",
   "execution_count": 3,
   "id": "0749a687",
   "metadata": {},
   "outputs": [],
   "source": [
    "def find_median_index(window):\n",
    "    \n",
    "    Y=np.tile(window,(3,3,1,1))\n",
    "        # find X\n",
    "        \n",
    "        # this is not exponential\n",
    "    X=np.array([\n",
    "                [np.tile(window[i],(9,1)) for i in range(3)],\n",
    "                [np.tile(window[i+3],(9,1)) for i in range(3)],\n",
    "                [np.tile(window[i+6],(9,1)) for i in range(3)],\n",
    "        \n",
    "            ])\n",
    "    \n",
    "    \n",
    "\n",
    "    D=[]\n",
    "    Z =np.abs(X-Y)\n",
    "\n",
    "    \n",
    "    for l in Z:\n",
    "        for m in l:                \n",
    "            D.append(np.sum(m))\n",
    "     \n",
    "    return D.index(min(D))\n",
    "\n"
   ]
  },
  {
   "cell_type": "code",
   "execution_count": 4,
   "id": "30c9dacc",
   "metadata": {},
   "outputs": [],
   "source": [
    "radiu=3\n",
    "\n",
    "# doing it for all pixels\n",
    "counter=0\n",
    "\n",
    "my_img_filter=padded.copy()\n",
    "for i in range(1,322):\n",
    "    for j in range(1,482):\n",
    "    \n",
    "        # for one specific pixel (i,j), create a kernel around it\n",
    "       \n",
    "        window=np.array([\n",
    "            padded[i-1][j-1],padded[i-1][j],padded[i-1][j+1],\n",
    "            padded[i][j-1],padded[i][j],padded[i][j+1],\n",
    "            padded[i+1][j-1],padded[i+1][j],padded[i+1][j+1]\n",
    "            ])\n",
    "        #Find min vector min_vector_index\n",
    "  \n",
    "        min_vector_index=find_median_index(window)\n",
    "        padded[i][j]=window[min_vector_index]\n",
    "        \n",
    "    \n",
    "        \n",
    "\n",
    "\n",
    "padded = padded[1:-1,1:-1,:]\n",
    "        "
   ]
  },
  {
   "cell_type": "code",
   "execution_count": 6,
   "id": "5d2797f4",
   "metadata": {},
   "outputs": [
    {
     "name": "stdout",
     "output_type": "stream",
     "text": [
      "vmf psnr   :  27.635746938144635\n",
      "noisy psnr   :  20.969101060100694\n"
     ]
    }
   ],
   "source": [
    "print(\"vmf psnr \", \" : \", peak_signal_noise_ratio(img_noiseless, padded))\n",
    "\n",
    "# only the green \n",
    "print(\"noisy psnr \", \" : \", peak_signal_noise_ratio(img_noiseless, img))"
   ]
  }
 ],
 "metadata": {
  "kernelspec": {
   "display_name": "Python 3 (ipykernel)",
   "language": "python",
   "name": "python3"
  },
  "language_info": {
   "codemirror_mode": {
    "name": "ipython",
    "version": 3
   },
   "file_extension": ".py",
   "mimetype": "text/x-python",
   "name": "python",
   "nbconvert_exporter": "python",
   "pygments_lexer": "ipython3",
   "version": "3.8.10"
  }
 },
 "nbformat": 4,
 "nbformat_minor": 5
}
